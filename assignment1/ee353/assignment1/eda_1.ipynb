{
 "cells": [
  {
   "cell_type": "code",
   "execution_count": null,
   "metadata": {},
   "outputs": [],
   "source": []
  },
  {
   "cell_type": "markdown",
   "metadata": {},
   "source": [
    "EDA stands for Exploratory Data Analysis. It is a crucial step in the data analysis process where analysts or data scientists examine and explore the data to understand its characteristics, uncover patterns, detect anomalies, and gain insights. EDA involves using various statistical and visualization techniques to summarize and visualize the data, identify relationships between variables, and identify any data quality issues or missing values. By performing EDA, analysts can make informed decisions about data preprocessing, feature engineering, and modeling strategies."
   ]
  },
  {
   "cell_type": "markdown",
   "metadata": {},
   "source": []
  },
  {
   "cell_type": "markdown",
   "metadata": {},
   "source": [
    "there are total 3 steps in eda:\n",
    "1. understand the data\n",
    "2. clean the data\n",
    "3. analyze the relationship between different variables"
   ]
  },
  {
   "cell_type": "code",
   "execution_count": 2,
   "metadata": {},
   "outputs": [],
   "source": [
    "import pandas as pd\n",
    "import numpy as np\n",
    "import matplotlib.pyplot as plt\n",
    "import seaborn as sns"
   ]
  },
  {
   "cell_type": "code",
   "execution_count": 3,
   "metadata": {},
   "outputs": [],
   "source": [
    "data= pd.read_csv('data1.csv')#read the data"
   ]
  },
  {
   "cell_type": "code",
   "execution_count": 4,
   "metadata": {},
   "outputs": [],
   "source": [
    "#1. understanding the data"
   ]
  },
  {
   "cell_type": "code",
   "execution_count": 5,
   "metadata": {},
   "outputs": [
    {
     "data": {
      "text/html": [
       "<div>\n",
       "<style scoped>\n",
       "    .dataframe tbody tr th:only-of-type {\n",
       "        vertical-align: middle;\n",
       "    }\n",
       "\n",
       "    .dataframe tbody tr th {\n",
       "        vertical-align: top;\n",
       "    }\n",
       "\n",
       "    .dataframe thead th {\n",
       "        text-align: right;\n",
       "    }\n",
       "</style>\n",
       "<table border=\"1\" class=\"dataframe\">\n",
       "  <thead>\n",
       "    <tr style=\"text-align: right;\">\n",
       "      <th></th>\n",
       "      <th>APN</th>\n",
       "      <th>SITE  COUNCIL DISTRICT</th>\n",
       "      <th>SITE #</th>\n",
       "      <th>SITE UNITS</th>\n",
       "      <th>PROJECT TOTAL UNITS</th>\n",
       "      <th>SH UNITS PER SITE</th>\n",
       "      <th>LAHD FUNDED</th>\n",
       "      <th>LEVERAGE</th>\n",
       "      <th>TAX EXEMPT CONDUIT BOND</th>\n",
       "      <th>TDC</th>\n",
       "      <th>JOBS</th>\n",
       "      <th>SITE LONGITUDE</th>\n",
       "      <th>SITE LATITUDE</th>\n",
       "    </tr>\n",
       "  </thead>\n",
       "  <tbody>\n",
       "    <tr>\n",
       "      <th>count</th>\n",
       "      <td>5.950000e+02</td>\n",
       "      <td>595.000000</td>\n",
       "      <td>595.000000</td>\n",
       "      <td>595.000000</td>\n",
       "      <td>595.000000</td>\n",
       "      <td>595.000000</td>\n",
       "      <td>5.950000e+02</td>\n",
       "      <td>5.950000e+02</td>\n",
       "      <td>5.950000e+02</td>\n",
       "      <td>5.950000e+02</td>\n",
       "      <td>415.000000</td>\n",
       "      <td>595.000000</td>\n",
       "      <td>595.000000</td>\n",
       "    </tr>\n",
       "    <tr>\n",
       "      <th>mean</th>\n",
       "      <td>4.931625e+09</td>\n",
       "      <td>8.425210</td>\n",
       "      <td>2.072269</td>\n",
       "      <td>54.868908</td>\n",
       "      <td>90.732773</td>\n",
       "      <td>20.235294</td>\n",
       "      <td>4.466108e+06</td>\n",
       "      <td>1.605931e+07</td>\n",
       "      <td>2.952402e+06</td>\n",
       "      <td>2.347782e+07</td>\n",
       "      <td>193.453012</td>\n",
       "      <td>-118.308551</td>\n",
       "      <td>34.054275</td>\n",
       "    </tr>\n",
       "    <tr>\n",
       "      <th>std</th>\n",
       "      <td>1.153791e+09</td>\n",
       "      <td>4.631437</td>\n",
       "      <td>2.760317</td>\n",
       "      <td>49.132984</td>\n",
       "      <td>65.384237</td>\n",
       "      <td>32.166210</td>\n",
       "      <td>5.053683e+06</td>\n",
       "      <td>1.321764e+07</td>\n",
       "      <td>9.713841e+06</td>\n",
       "      <td>1.772533e+07</td>\n",
       "      <td>146.352206</td>\n",
       "      <td>0.077547</td>\n",
       "      <td>0.092567</td>\n",
       "    </tr>\n",
       "    <tr>\n",
       "      <th>min</th>\n",
       "      <td>2.103009e+09</td>\n",
       "      <td>1.000000</td>\n",
       "      <td>1.000000</td>\n",
       "      <td>0.000000</td>\n",
       "      <td>6.000000</td>\n",
       "      <td>0.000000</td>\n",
       "      <td>0.000000e+00</td>\n",
       "      <td>0.000000e+00</td>\n",
       "      <td>0.000000e+00</td>\n",
       "      <td>0.000000e+00</td>\n",
       "      <td>5.000000</td>\n",
       "      <td>-118.606390</td>\n",
       "      <td>33.736140</td>\n",
       "    </tr>\n",
       "    <tr>\n",
       "      <th>25%</th>\n",
       "      <td>5.039024e+09</td>\n",
       "      <td>6.000000</td>\n",
       "      <td>1.000000</td>\n",
       "      <td>21.000000</td>\n",
       "      <td>49.000000</td>\n",
       "      <td>0.000000</td>\n",
       "      <td>0.000000e+00</td>\n",
       "      <td>7.103994e+06</td>\n",
       "      <td>0.000000e+00</td>\n",
       "      <td>1.226428e+07</td>\n",
       "      <td>84.500000</td>\n",
       "      <td>-118.320325</td>\n",
       "      <td>34.011150</td>\n",
       "    </tr>\n",
       "    <tr>\n",
       "      <th>50%</th>\n",
       "      <td>5.143020e+09</td>\n",
       "      <td>9.000000</td>\n",
       "      <td>1.000000</td>\n",
       "      <td>49.000000</td>\n",
       "      <td>71.000000</td>\n",
       "      <td>0.000000</td>\n",
       "      <td>3.225000e+06</td>\n",
       "      <td>1.310000e+07</td>\n",
       "      <td>0.000000e+00</td>\n",
       "      <td>1.886909e+07</td>\n",
       "      <td>174.000000</td>\n",
       "      <td>-118.285750</td>\n",
       "      <td>34.047810</td>\n",
       "    </tr>\n",
       "    <tr>\n",
       "      <th>75%</th>\n",
       "      <td>5.511022e+09</td>\n",
       "      <td>13.000000</td>\n",
       "      <td>1.000000</td>\n",
       "      <td>75.500000</td>\n",
       "      <td>102.000000</td>\n",
       "      <td>37.500000</td>\n",
       "      <td>6.615000e+06</td>\n",
       "      <td>2.233964e+07</td>\n",
       "      <td>3.950000e+06</td>\n",
       "      <td>2.975500e+07</td>\n",
       "      <td>261.500000</td>\n",
       "      <td>-118.263290</td>\n",
       "      <td>34.086435</td>\n",
       "    </tr>\n",
       "    <tr>\n",
       "      <th>max</th>\n",
       "      <td>7.455014e+09</td>\n",
       "      <td>15.000000</td>\n",
       "      <td>20.000000</td>\n",
       "      <td>438.000000</td>\n",
       "      <td>438.000000</td>\n",
       "      <td>262.000000</td>\n",
       "      <td>3.968821e+07</td>\n",
       "      <td>9.407772e+07</td>\n",
       "      <td>1.842604e+08</td>\n",
       "      <td>2.230181e+08</td>\n",
       "      <td>1165.000000</td>\n",
       "      <td>-118.165140</td>\n",
       "      <td>34.324020</td>\n",
       "    </tr>\n",
       "  </tbody>\n",
       "</table>\n",
       "</div>"
      ],
      "text/plain": [
       "                APN  SITE  COUNCIL DISTRICT      SITE #  SITE UNITS  \\\n",
       "count  5.950000e+02              595.000000  595.000000  595.000000   \n",
       "mean   4.931625e+09                8.425210    2.072269   54.868908   \n",
       "std    1.153791e+09                4.631437    2.760317   49.132984   \n",
       "min    2.103009e+09                1.000000    1.000000    0.000000   \n",
       "25%    5.039024e+09                6.000000    1.000000   21.000000   \n",
       "50%    5.143020e+09                9.000000    1.000000   49.000000   \n",
       "75%    5.511022e+09               13.000000    1.000000   75.500000   \n",
       "max    7.455014e+09               15.000000   20.000000  438.000000   \n",
       "\n",
       "       PROJECT TOTAL UNITS  SH UNITS PER SITE   LAHD FUNDED      LEVERAGE  \\\n",
       "count           595.000000         595.000000  5.950000e+02  5.950000e+02   \n",
       "mean             90.732773          20.235294  4.466108e+06  1.605931e+07   \n",
       "std              65.384237          32.166210  5.053683e+06  1.321764e+07   \n",
       "min               6.000000           0.000000  0.000000e+00  0.000000e+00   \n",
       "25%              49.000000           0.000000  0.000000e+00  7.103994e+06   \n",
       "50%              71.000000           0.000000  3.225000e+06  1.310000e+07   \n",
       "75%             102.000000          37.500000  6.615000e+06  2.233964e+07   \n",
       "max             438.000000         262.000000  3.968821e+07  9.407772e+07   \n",
       "\n",
       "       TAX EXEMPT CONDUIT BOND           TDC         JOBS  SITE LONGITUDE  \\\n",
       "count             5.950000e+02  5.950000e+02   415.000000      595.000000   \n",
       "mean              2.952402e+06  2.347782e+07   193.453012     -118.308551   \n",
       "std               9.713841e+06  1.772533e+07   146.352206        0.077547   \n",
       "min               0.000000e+00  0.000000e+00     5.000000     -118.606390   \n",
       "25%               0.000000e+00  1.226428e+07    84.500000     -118.320325   \n",
       "50%               0.000000e+00  1.886909e+07   174.000000     -118.285750   \n",
       "75%               3.950000e+06  2.975500e+07   261.500000     -118.263290   \n",
       "max               1.842604e+08  2.230181e+08  1165.000000     -118.165140   \n",
       "\n",
       "       SITE LATITUDE  \n",
       "count     595.000000  \n",
       "mean       34.054275  \n",
       "std         0.092567  \n",
       "min        33.736140  \n",
       "25%        34.011150  \n",
       "50%        34.047810  \n",
       "75%        34.086435  \n",
       "max        34.324020  "
      ]
     },
     "execution_count": 5,
     "metadata": {},
     "output_type": "execute_result"
    }
   ],
   "source": [
    "data.head()#to display the first 5 rows of the data\n",
    "data.tail()#to display the last 5 rows of the data\n",
    "data.describe()#method to display the summary statistics of the data"
   ]
  },
  {
   "cell_type": "code",
   "execution_count": 6,
   "metadata": {},
   "outputs": [
    {
     "data": {
      "text/plain": [
       "(595, 31)"
      ]
     },
     "execution_count": 6,
     "metadata": {},
     "output_type": "execute_result"
    }
   ],
   "source": [
    "data.shape#to display the number of rows and columns of the data"
   ]
  },
  {
   "cell_type": "code",
   "execution_count": 7,
   "metadata": {},
   "outputs": [
    {
     "data": {
      "text/plain": [
       "Index(['APN', 'PROJECT NUMBER', 'NAME', 'DEVELOPMENT STAGE',\n",
       "       'CONSTRUCTION TYPE', 'SITE ADDRESS', 'SITE  COUNCIL DISTRICT', 'SITE #',\n",
       "       'SITE COMMUNITY', 'SITE UNITS', 'PROJECT TOTAL UNITS', 'HOUSING TYPE',\n",
       "       'SUPPORTIVE HOUSING', 'SH UNITS PER SITE', 'DATE FUNDED', 'LAHD FUNDED',\n",
       "       'LEVERAGE', 'TAX EXEMPT CONDUIT BOND', 'TDC', 'IN-SERVICE DATE',\n",
       "       'DEVELOPER', 'MANAGEMENT COMPANY', 'CONTACT PHONE', 'PHOTO', 'JOBS',\n",
       "       'PROJECT SUMMARY URL', 'CONTRACT NUMBERS', 'DATE STAMP',\n",
       "       'SITE LONGITUDE', 'SITE LATITUDE', 'GPS_COORDS ON MAP'],\n",
       "      dtype='object')"
      ]
     },
     "execution_count": 7,
     "metadata": {},
     "output_type": "execute_result"
    }
   ],
   "source": [
    "data.columns#to display the columns of the data"
   ]
  },
  {
   "cell_type": "code",
   "execution_count": 8,
   "metadata": {},
   "outputs": [
    {
     "data": {
      "text/plain": [
       "APN                        584\n",
       "PROJECT NUMBER             447\n",
       "NAME                       595\n",
       "DEVELOPMENT STAGE            2\n",
       "CONSTRUCTION TYPE            7\n",
       "SITE ADDRESS               591\n",
       "SITE  COUNCIL DISTRICT      15\n",
       "SITE #                      20\n",
       "SITE COMMUNITY              87\n",
       "SITE UNITS                 144\n",
       "PROJECT TOTAL UNITS        132\n",
       "HOUSING TYPE                 6\n",
       "SUPPORTIVE HOUSING           2\n",
       "SH UNITS PER SITE           91\n",
       "DATE FUNDED                382\n",
       "LAHD FUNDED                350\n",
       "LEVERAGE                   396\n",
       "TAX EXEMPT CONDUIT BOND    126\n",
       "TDC                        440\n",
       "IN-SERVICE DATE             26\n",
       "DEVELOPER                  226\n",
       "MANAGEMENT COMPANY         146\n",
       "CONTACT PHONE              182\n",
       "PHOTO                      312\n",
       "JOBS                       242\n",
       "PROJECT SUMMARY URL        595\n",
       "CONTRACT NUMBERS           378\n",
       "DATE STAMP                   1\n",
       "SITE LONGITUDE             549\n",
       "SITE LATITUDE              565\n",
       "GPS_COORDS ON MAP          582\n",
       "dtype: int64"
      ]
     },
     "execution_count": 8,
     "metadata": {},
     "output_type": "execute_result"
    }
   ],
   "source": [
    "data.nunique()#to display the number of unique values in each column"
   ]
  },
  {
   "cell_type": "code",
   "execution_count": 9,
   "metadata": {},
   "outputs": [
    {
     "data": {
      "text/plain": [
       "array(['In-Service', nan, 'Development'], dtype=object)"
      ]
     },
     "execution_count": 9,
     "metadata": {},
     "output_type": "execute_result"
    }
   ],
   "source": [
    "data['DEVELOPMENT STAGE'].unique()#to display the unique values in the column 'DEVELOPMENT STAGE'"
   ]
  },
  {
   "cell_type": "code",
   "execution_count": 10,
   "metadata": {},
   "outputs": [
    {
     "data": {
      "text/plain": [
       "array(['NEW CONSTRUCTION', 'REHAB', nan, 'ACQUISITION + REHAB',\n",
       "       'ACQUISITION + NEW CONSTRUCTION', 'ACQUISITION ONLY',\n",
       "       'BOTH REHAB AND NEW CONSTRUCTION', 'DEMO/NEW CONSTRUCTION'],\n",
       "      dtype=object)"
      ]
     },
     "execution_count": 10,
     "metadata": {},
     "output_type": "execute_result"
    }
   ],
   "source": [
    "data['CONSTRUCTION TYPE'].unique()#to display the unique values in the column 'CONSTRUCTION TYPE'"
   ]
  },
  {
   "cell_type": "code",
   "execution_count": 11,
   "metadata": {},
   "outputs": [
    {
     "data": {
      "text/plain": [
       "array(['No', 'Yes'], dtype=object)"
      ]
     },
     "execution_count": 11,
     "metadata": {},
     "output_type": "execute_result"
    }
   ],
   "source": [
    "data['SUPPORTIVE HOUSING'].unique()#to display the unique values in the column 'SUPPORTIVE HOUSING'"
   ]
  },
  {
   "cell_type": "code",
   "execution_count": 12,
   "metadata": {},
   "outputs": [],
   "source": [
    "#2. Data Cleaning"
   ]
  },
  {
   "cell_type": "code",
   "execution_count": 13,
   "metadata": {},
   "outputs": [
    {
     "data": {
      "text/plain": [
       "APN                          0\n",
       "PROJECT NUMBER               0\n",
       "NAME                         0\n",
       "DEVELOPMENT STAGE            1\n",
       "CONSTRUCTION TYPE           34\n",
       "SITE ADDRESS                 0\n",
       "SITE  COUNCIL DISTRICT       0\n",
       "SITE #                       0\n",
       "SITE COMMUNITY               7\n",
       "SITE UNITS                   0\n",
       "PROJECT TOTAL UNITS          0\n",
       "HOUSING TYPE                22\n",
       "SUPPORTIVE HOUSING           0\n",
       "SH UNITS PER SITE            0\n",
       "DATE FUNDED                  1\n",
       "LAHD FUNDED                  0\n",
       "LEVERAGE                     0\n",
       "TAX EXEMPT CONDUIT BOND      0\n",
       "TDC                          0\n",
       "IN-SERVICE DATE              0\n",
       "DEVELOPER                   26\n",
       "MANAGEMENT COMPANY          55\n",
       "CONTACT PHONE               84\n",
       "PHOTO                        0\n",
       "JOBS                       180\n",
       "PROJECT SUMMARY URL          0\n",
       "CONTRACT NUMBERS           148\n",
       "DATE STAMP                   0\n",
       "SITE LONGITUDE               0\n",
       "SITE LATITUDE                0\n",
       "GPS_COORDS ON MAP            0\n",
       "dtype: int64"
      ]
     },
     "execution_count": 13,
     "metadata": {},
     "output_type": "execute_result"
    }
   ],
   "source": [
    "data.isnull().sum()#to display the number of missing values in each column"
   ]
  },
  {
   "cell_type": "code",
   "execution_count": 27,
   "metadata": {},
   "outputs": [],
   "source": [
    "threshold = 0.3\n",
    "data_cleaned = data.dropna(thresh=int((1 - threshold) * len(data)), axis=1)\n",
    "#this code will drop columns with more than 30% missing values"
   ]
  },
  {
   "cell_type": "code",
   "execution_count": 28,
   "metadata": {},
   "outputs": [
    {
     "data": {
      "text/plain": [
       "31"
      ]
     },
     "execution_count": 28,
     "metadata": {},
     "output_type": "execute_result"
    }
   ],
   "source": [
    "data_cleaned.columns.size#to display the number of columns in the data"
   ]
  },
  {
   "cell_type": "code",
   "execution_count": 29,
   "metadata": {},
   "outputs": [
    {
     "data": {
      "text/plain": [
       "(595, 31)"
      ]
     },
     "execution_count": 29,
     "metadata": {},
     "output_type": "execute_result"
    }
   ],
   "source": [
    "data_cleaned = data_cleaned.dropna(thresh=15)  # Keep rows with at least 15 non-NaN values\n",
    "data_cleaned.shape#to display the number of rows and columns of the data"
   ]
  },
  {
   "cell_type": "code",
   "execution_count": 30,
   "metadata": {},
   "outputs": [],
   "source": [
    "data_cleaned['CONSTRUCTION TYPE'].fillna(data_cleaned['CONSTRUCTION TYPE'].mode()[0], inplace=True)\n",
    "data_cleaned['JOBS'].fillna(data_cleaned['JOBS'].mean(), inplace=True)\n"
   ]
  },
  {
   "cell_type": "code",
   "execution_count": 31,
   "metadata": {},
   "outputs": [],
   "source": [
    "data_cleaned['DEVELOPMENT STAGE'].fillna(data_cleaned['DEVELOPMENT STAGE'].mode()[0], inplace=True)\n",
    "data_cleaned['HOUSING TYPE'].fillna(data_cleaned['HOUSING TYPE'].mode()[0], inplace=True)\n"
   ]
  },
  {
   "cell_type": "code",
   "execution_count": 32,
   "metadata": {},
   "outputs": [],
   "source": [
    "data_cleaned['CONTACT PHONE'].fillna('Unknown', inplace=True)\n",
    "data_cleaned['MANAGEMENT COMPANY'].fillna('Unknown', inplace=True)\n"
   ]
  },
  {
   "cell_type": "code",
   "execution_count": 33,
   "metadata": {},
   "outputs": [],
   "source": [
    "columns_to_drop = ['APN', 'PROJECT NUMBER', 'NAME', 'SITE ADDRESS', 'SITE #', 'DATE FUNDED', \n",
    "                   'CONTACT PHONE', 'PHOTO', 'DATE STAMP', 'GPS_COORDS ON MAP']\n",
    "\n",
    "data_cleaned = data_cleaned.drop(columns=columns_to_drop)\n"
   ]
  },
  {
   "cell_type": "code",
   "execution_count": 34,
   "metadata": {},
   "outputs": [
    {
     "data": {
      "text/plain": [
       "(595, 21)"
      ]
     },
     "execution_count": 34,
     "metadata": {},
     "output_type": "execute_result"
    }
   ],
   "source": [
    "data_cleaned.shape#to display the number of rows and columns of the data"
   ]
  },
  {
   "cell_type": "code",
   "execution_count": 36,
   "metadata": {},
   "outputs": [
    {
     "data": {
      "text/plain": [
       "Index(['DEVELOPMENT STAGE', 'CONSTRUCTION TYPE', 'SITE  COUNCIL DISTRICT',\n",
       "       'SITE COMMUNITY', 'SITE UNITS', 'PROJECT TOTAL UNITS', 'HOUSING TYPE',\n",
       "       'SUPPORTIVE HOUSING', 'SH UNITS PER SITE', 'LAHD FUNDED', 'LEVERAGE',\n",
       "       'TAX EXEMPT CONDUIT BOND', 'TDC', 'IN-SERVICE DATE', 'DEVELOPER',\n",
       "       'MANAGEMENT COMPANY', 'JOBS', 'PROJECT SUMMARY URL', 'CONTRACT NUMBERS',\n",
       "       'SITE LONGITUDE', 'SITE LATITUDE'],\n",
       "      dtype='object')"
      ]
     },
     "execution_count": 36,
     "metadata": {},
     "output_type": "execute_result"
    }
   ],
   "source": [
    "data_cleaned.columns#to display the columns of the data"
   ]
  },
  {
   "cell_type": "code",
   "execution_count": 37,
   "metadata": {},
   "outputs": [
    {
     "data": {
      "text/plain": [
       "DEVELOPMENT STAGE            0\n",
       "CONSTRUCTION TYPE            0\n",
       "SITE  COUNCIL DISTRICT       0\n",
       "SITE COMMUNITY               7\n",
       "SITE UNITS                   0\n",
       "PROJECT TOTAL UNITS          0\n",
       "HOUSING TYPE                 0\n",
       "SUPPORTIVE HOUSING           0\n",
       "SH UNITS PER SITE            0\n",
       "LAHD FUNDED                  0\n",
       "LEVERAGE                     0\n",
       "TAX EXEMPT CONDUIT BOND      0\n",
       "TDC                          0\n",
       "IN-SERVICE DATE              0\n",
       "DEVELOPER                   26\n",
       "MANAGEMENT COMPANY           0\n",
       "JOBS                         0\n",
       "PROJECT SUMMARY URL          0\n",
       "CONTRACT NUMBERS           148\n",
       "SITE LONGITUDE               0\n",
       "SITE LATITUDE                0\n",
       "dtype: int64"
      ]
     },
     "execution_count": 37,
     "metadata": {},
     "output_type": "execute_result"
    }
   ],
   "source": [
    "data_cleaned.isnull().sum()#to display the number of missing values in each column"
   ]
  },
  {
   "cell_type": "code",
   "execution_count": 38,
   "metadata": {},
   "outputs": [
    {
     "data": {
      "text/html": [
       "<div>\n",
       "<style scoped>\n",
       "    .dataframe tbody tr th:only-of-type {\n",
       "        vertical-align: middle;\n",
       "    }\n",
       "\n",
       "    .dataframe tbody tr th {\n",
       "        vertical-align: top;\n",
       "    }\n",
       "\n",
       "    .dataframe thead th {\n",
       "        text-align: right;\n",
       "    }\n",
       "</style>\n",
       "<table border=\"1\" class=\"dataframe\">\n",
       "  <thead>\n",
       "    <tr style=\"text-align: right;\">\n",
       "      <th></th>\n",
       "      <th>DEVELOPMENT STAGE</th>\n",
       "      <th>CONSTRUCTION TYPE</th>\n",
       "      <th>SITE  COUNCIL DISTRICT</th>\n",
       "      <th>SITE COMMUNITY</th>\n",
       "      <th>SITE UNITS</th>\n",
       "      <th>PROJECT TOTAL UNITS</th>\n",
       "      <th>HOUSING TYPE</th>\n",
       "      <th>SUPPORTIVE HOUSING</th>\n",
       "      <th>SH UNITS PER SITE</th>\n",
       "      <th>LAHD FUNDED</th>\n",
       "      <th>...</th>\n",
       "      <th>TAX EXEMPT CONDUIT BOND</th>\n",
       "      <th>TDC</th>\n",
       "      <th>IN-SERVICE DATE</th>\n",
       "      <th>DEVELOPER</th>\n",
       "      <th>MANAGEMENT COMPANY</th>\n",
       "      <th>JOBS</th>\n",
       "      <th>PROJECT SUMMARY URL</th>\n",
       "      <th>CONTRACT NUMBERS</th>\n",
       "      <th>SITE LONGITUDE</th>\n",
       "      <th>SITE LATITUDE</th>\n",
       "    </tr>\n",
       "  </thead>\n",
       "  <tbody>\n",
       "    <tr>\n",
       "      <th>0</th>\n",
       "      <td>In-Service</td>\n",
       "      <td>NEW CONSTRUCTION</td>\n",
       "      <td>1</td>\n",
       "      <td>WESTLAKE</td>\n",
       "      <td>196</td>\n",
       "      <td>196</td>\n",
       "      <td>SENIORS</td>\n",
       "      <td>No</td>\n",
       "      <td>0</td>\n",
       "      <td>0.00</td>\n",
       "      <td>...</td>\n",
       "      <td>0</td>\n",
       "      <td>0.00</td>\n",
       "      <td>2003</td>\n",
       "      <td>NaN</td>\n",
       "      <td>GSL PROPERRTY MANAGEMENT</td>\n",
       "      <td>193.453012</td>\n",
       "      <td>click here (http://hcidapp.lacity.org/ahtfRepo...</td>\n",
       "      <td>NaN</td>\n",
       "      <td>-118.26584</td>\n",
       "      <td>34.05235</td>\n",
       "    </tr>\n",
       "    <tr>\n",
       "      <th>1</th>\n",
       "      <td>In-Service</td>\n",
       "      <td>REHAB</td>\n",
       "      <td>10</td>\n",
       "      <td>CRENSHAW DISTRICT</td>\n",
       "      <td>0</td>\n",
       "      <td>257</td>\n",
       "      <td>FAMILY</td>\n",
       "      <td>No</td>\n",
       "      <td>0</td>\n",
       "      <td>0.00</td>\n",
       "      <td>...</td>\n",
       "      <td>10208936</td>\n",
       "      <td>17312930.00</td>\n",
       "      <td>2006</td>\n",
       "      <td>HAMPSTEAD PARTNERS, INC.</td>\n",
       "      <td>ALPHA PROPERTY MANAGEMENT, INC.</td>\n",
       "      <td>193.453012</td>\n",
       "      <td>click here (http://hcidapp.lacity.org/ahtfRepo...</td>\n",
       "      <td>NaN</td>\n",
       "      <td>-118.34182</td>\n",
       "      <td>34.03071</td>\n",
       "    </tr>\n",
       "    <tr>\n",
       "      <th>2</th>\n",
       "      <td>In-Service</td>\n",
       "      <td>NEW CONSTRUCTION</td>\n",
       "      <td>9</td>\n",
       "      <td>CENTRAL</td>\n",
       "      <td>0</td>\n",
       "      <td>74</td>\n",
       "      <td>SPECIAL NEEDS</td>\n",
       "      <td>Yes</td>\n",
       "      <td>0</td>\n",
       "      <td>9389115.63</td>\n",
       "      <td>...</td>\n",
       "      <td>0</td>\n",
       "      <td>45471107.63</td>\n",
       "      <td>2021</td>\n",
       "      <td>Hollywood Community Housing Corporation</td>\n",
       "      <td>BARKER MANAGEMENT INCORPORATED</td>\n",
       "      <td>226.000000</td>\n",
       "      <td>click here (http://hcidapp.lacity.org/ahtfRepo...</td>\n",
       "      <td>C-129358</td>\n",
       "      <td>-118.25740</td>\n",
       "      <td>34.01115</td>\n",
       "    </tr>\n",
       "    <tr>\n",
       "      <th>3</th>\n",
       "      <td>In-Service</td>\n",
       "      <td>NEW CONSTRUCTION</td>\n",
       "      <td>8</td>\n",
       "      <td>HYDE PARK</td>\n",
       "      <td>55</td>\n",
       "      <td>55</td>\n",
       "      <td>SENIORS</td>\n",
       "      <td>No</td>\n",
       "      <td>0</td>\n",
       "      <td>5281147.00</td>\n",
       "      <td>...</td>\n",
       "      <td>0</td>\n",
       "      <td>13709884.00</td>\n",
       "      <td>2009</td>\n",
       "      <td>Abode Communities previously known as LA COMMU...</td>\n",
       "      <td>ABODE COMMUNITIES</td>\n",
       "      <td>110.000000</td>\n",
       "      <td>click here (http://hcidapp.lacity.org/ahtfRepo...</td>\n",
       "      <td>C-111486</td>\n",
       "      <td>-118.33139</td>\n",
       "      <td>33.97355</td>\n",
       "    </tr>\n",
       "    <tr>\n",
       "      <th>4</th>\n",
       "      <td>In-Service</td>\n",
       "      <td>NEW CONSTRUCTION</td>\n",
       "      <td>13</td>\n",
       "      <td>TEMPLE-BEAUDRY</td>\n",
       "      <td>49</td>\n",
       "      <td>49</td>\n",
       "      <td>FAMILY</td>\n",
       "      <td>No</td>\n",
       "      <td>0</td>\n",
       "      <td>2846000.00</td>\n",
       "      <td>...</td>\n",
       "      <td>0</td>\n",
       "      <td>13711989.00</td>\n",
       "      <td>2008</td>\n",
       "      <td>AMERICAN COMMUNITIES, LLC</td>\n",
       "      <td>THE JOHN STEWART COMPANY</td>\n",
       "      <td>95.000000</td>\n",
       "      <td>click here (http://hcidapp.lacity.org/ahtfRepo...</td>\n",
       "      <td>C-109452</td>\n",
       "      <td>-118.26086</td>\n",
       "      <td>34.06173</td>\n",
       "    </tr>\n",
       "  </tbody>\n",
       "</table>\n",
       "<p>5 rows × 21 columns</p>\n",
       "</div>"
      ],
      "text/plain": [
       "  DEVELOPMENT STAGE CONSTRUCTION TYPE  SITE  COUNCIL DISTRICT  \\\n",
       "0        In-Service  NEW CONSTRUCTION                       1   \n",
       "1        In-Service             REHAB                      10   \n",
       "2        In-Service  NEW CONSTRUCTION                       9   \n",
       "3        In-Service  NEW CONSTRUCTION                       8   \n",
       "4        In-Service  NEW CONSTRUCTION                      13   \n",
       "\n",
       "      SITE COMMUNITY  SITE UNITS  PROJECT TOTAL UNITS   HOUSING TYPE  \\\n",
       "0           WESTLAKE         196                  196        SENIORS   \n",
       "1  CRENSHAW DISTRICT           0                  257         FAMILY   \n",
       "2            CENTRAL           0                   74  SPECIAL NEEDS   \n",
       "3          HYDE PARK          55                   55        SENIORS   \n",
       "4     TEMPLE-BEAUDRY          49                   49         FAMILY   \n",
       "\n",
       "  SUPPORTIVE HOUSING  SH UNITS PER SITE  LAHD FUNDED  ...  \\\n",
       "0                 No                  0         0.00  ...   \n",
       "1                 No                  0         0.00  ...   \n",
       "2                Yes                  0   9389115.63  ...   \n",
       "3                 No                  0   5281147.00  ...   \n",
       "4                 No                  0   2846000.00  ...   \n",
       "\n",
       "   TAX EXEMPT CONDUIT BOND          TDC  IN-SERVICE DATE  \\\n",
       "0                        0         0.00             2003   \n",
       "1                 10208936  17312930.00             2006   \n",
       "2                        0  45471107.63             2021   \n",
       "3                        0  13709884.00             2009   \n",
       "4                        0  13711989.00             2008   \n",
       "\n",
       "                                           DEVELOPER  \\\n",
       "0                                                NaN   \n",
       "1                           HAMPSTEAD PARTNERS, INC.   \n",
       "2            Hollywood Community Housing Corporation   \n",
       "3  Abode Communities previously known as LA COMMU...   \n",
       "4                          AMERICAN COMMUNITIES, LLC   \n",
       "\n",
       "                MANAGEMENT COMPANY        JOBS  \\\n",
       "0         GSL PROPERRTY MANAGEMENT  193.453012   \n",
       "1  ALPHA PROPERTY MANAGEMENT, INC.  193.453012   \n",
       "2   BARKER MANAGEMENT INCORPORATED  226.000000   \n",
       "3                ABODE COMMUNITIES  110.000000   \n",
       "4         THE JOHN STEWART COMPANY   95.000000   \n",
       "\n",
       "                                 PROJECT SUMMARY URL CONTRACT NUMBERS  \\\n",
       "0  click here (http://hcidapp.lacity.org/ahtfRepo...              NaN   \n",
       "1  click here (http://hcidapp.lacity.org/ahtfRepo...              NaN   \n",
       "2  click here (http://hcidapp.lacity.org/ahtfRepo...         C-129358   \n",
       "3  click here (http://hcidapp.lacity.org/ahtfRepo...         C-111486   \n",
       "4  click here (http://hcidapp.lacity.org/ahtfRepo...         C-109452   \n",
       "\n",
       "  SITE LONGITUDE  SITE LATITUDE  \n",
       "0     -118.26584       34.05235  \n",
       "1     -118.34182       34.03071  \n",
       "2     -118.25740       34.01115  \n",
       "3     -118.33139       33.97355  \n",
       "4     -118.26086       34.06173  \n",
       "\n",
       "[5 rows x 21 columns]"
      ]
     },
     "execution_count": 38,
     "metadata": {},
     "output_type": "execute_result"
    }
   ],
   "source": [
    "data['SITE COMMUNITY'].fillna(data['SITE COMMUNITY'].mode()[0], inplace=True)\n"
   ]
  }
 ],
 "metadata": {
  "kernelspec": {
   "display_name": "Python 3",
   "language": "python",
   "name": "python3"
  },
  "language_info": {
   "codemirror_mode": {
    "name": "ipython",
    "version": 3
   },
   "file_extension": ".py",
   "mimetype": "text/x-python",
   "name": "python",
   "nbconvert_exporter": "python",
   "pygments_lexer": "ipython3",
   "version": "3.11.9"
  }
 },
 "nbformat": 4,
 "nbformat_minor": 2
}
